{
  "nbformat": 4,
  "nbformat_minor": 0,
  "metadata": {
    "colab": {
      "name": "Untitled3.ipynb",
      "provenance": [],
      "toc_visible": true,
      "authorship_tag": "ABX9TyPdUpFkudfGcjWiv8rr9Hl7",
      "include_colab_link": true
    },
    "kernelspec": {
      "name": "python3",
      "display_name": "Python 3"
    },
    "language_info": {
      "name": "python"
    }
  },
  "cells": [
    {
      "cell_type": "markdown",
      "metadata": {
        "id": "view-in-github",
        "colab_type": "text"
      },
      "source": [
        "<a href=\"https://colab.research.google.com/github/syno3/Data-science-portfolio/blob/main/Titanic-001.ipynb\" target=\"_parent\"><img src=\"https://colab.research.google.com/assets/colab-badge.svg\" alt=\"Open In Colab\"/></a>"
      ]
    },
    {
      "cell_type": "markdown",
      "metadata": {
        "id": "hyVJdq5UrcmE"
      },
      "source": [
        "### Import libraries needed"
      ]
    },
    {
      "cell_type": "code",
      "metadata": {
        "id": "Kk724JgCrY3h"
      },
      "source": [
        "import pandas as pd\n",
        "import numpy as np\n",
        "import seaborn as sb"
      ],
      "execution_count": 1,
      "outputs": []
    },
    {
      "cell_type": "markdown",
      "metadata": {
        "id": "ibdfPBygroZK"
      },
      "source": [
        "### loading the dataset"
      ]
    },
    {
      "cell_type": "code",
      "metadata": {
        "colab": {
          "base_uri": "https://localhost:8080/",
          "height": 241
        },
        "id": "OM4tQMBrrruQ",
        "outputId": "923fbab9-5731-49c9-d886-1f876d1522fa"
      },
      "source": [
        "df = pd.read_csv('titanic.csv',sep='\\t', engine='python')\n",
        "df.head(4)"
      ],
      "execution_count": 2,
      "outputs": [
        {
          "output_type": "execute_result",
          "data": {
            "text/html": [
              "<div>\n",
              "<style scoped>\n",
              "    .dataframe tbody tr th:only-of-type {\n",
              "        vertical-align: middle;\n",
              "    }\n",
              "\n",
              "    .dataframe tbody tr th {\n",
              "        vertical-align: top;\n",
              "    }\n",
              "\n",
              "    .dataframe thead th {\n",
              "        text-align: right;\n",
              "    }\n",
              "</style>\n",
              "<table border=\"1\" class=\"dataframe\">\n",
              "  <thead>\n",
              "    <tr style=\"text-align: right;\">\n",
              "      <th></th>\n",
              "      <th>PassengerId</th>\n",
              "      <th>Survived</th>\n",
              "      <th>Pclass</th>\n",
              "      <th>Name</th>\n",
              "      <th>Sex</th>\n",
              "      <th>Age</th>\n",
              "      <th>SibSp</th>\n",
              "      <th>Parch</th>\n",
              "      <th>Ticket</th>\n",
              "      <th>Fare</th>\n",
              "      <th>Cabin</th>\n",
              "      <th>Embarked</th>\n",
              "    </tr>\n",
              "  </thead>\n",
              "  <tbody>\n",
              "    <tr>\n",
              "      <th>0</th>\n",
              "      <td>1</td>\n",
              "      <td>0</td>\n",
              "      <td>3</td>\n",
              "      <td>Braund, Mr. Owen Harris</td>\n",
              "      <td>male</td>\n",
              "      <td>22.0</td>\n",
              "      <td>1</td>\n",
              "      <td>0</td>\n",
              "      <td>A/5 21171</td>\n",
              "      <td>7.2500</td>\n",
              "      <td>NaN</td>\n",
              "      <td>S</td>\n",
              "    </tr>\n",
              "    <tr>\n",
              "      <th>1</th>\n",
              "      <td>2</td>\n",
              "      <td>1</td>\n",
              "      <td>1</td>\n",
              "      <td>Cumings, Mrs. John Bradley (Florence Briggs Th...</td>\n",
              "      <td>female</td>\n",
              "      <td>38.0</td>\n",
              "      <td>1</td>\n",
              "      <td>0</td>\n",
              "      <td>PC 17599</td>\n",
              "      <td>71.2833</td>\n",
              "      <td>C85</td>\n",
              "      <td>C</td>\n",
              "    </tr>\n",
              "    <tr>\n",
              "      <th>2</th>\n",
              "      <td>3</td>\n",
              "      <td>1</td>\n",
              "      <td>3</td>\n",
              "      <td>Heikkinen, Miss. Laina</td>\n",
              "      <td>female</td>\n",
              "      <td>26.0</td>\n",
              "      <td>0</td>\n",
              "      <td>0</td>\n",
              "      <td>STON/O2. 3101282</td>\n",
              "      <td>7.9250</td>\n",
              "      <td>NaN</td>\n",
              "      <td>S</td>\n",
              "    </tr>\n",
              "    <tr>\n",
              "      <th>3</th>\n",
              "      <td>4</td>\n",
              "      <td>1</td>\n",
              "      <td>1</td>\n",
              "      <td>Futrelle, Mrs. Jacques Heath (Lily May Peel)</td>\n",
              "      <td>female</td>\n",
              "      <td>35.0</td>\n",
              "      <td>1</td>\n",
              "      <td>0</td>\n",
              "      <td>113803</td>\n",
              "      <td>53.1000</td>\n",
              "      <td>C123</td>\n",
              "      <td>S</td>\n",
              "    </tr>\n",
              "  </tbody>\n",
              "</table>\n",
              "</div>"
            ],
            "text/plain": [
              "   PassengerId  Survived  Pclass  ...     Fare Cabin  Embarked\n",
              "0            1         0       3  ...   7.2500   NaN         S\n",
              "1            2         1       1  ...  71.2833   C85         C\n",
              "2            3         1       3  ...   7.9250   NaN         S\n",
              "3            4         1       1  ...  53.1000  C123         S\n",
              "\n",
              "[4 rows x 12 columns]"
            ]
          },
          "metadata": {
            "tags": []
          },
          "execution_count": 2
        }
      ]
    },
    {
      "cell_type": "markdown",
      "metadata": {
        "id": "sDVwAGVUrz04"
      },
      "source": [
        "### Drop columns that will not be needed for training"
      ]
    },
    {
      "cell_type": "code",
      "metadata": {
        "colab": {
          "base_uri": "https://localhost:8080/",
          "height": 173
        },
        "id": "ffDQmsGMr7rN",
        "outputId": "13a4fec1-926e-4af9-cca0-e052ff35b28e"
      },
      "source": [
        "cols_to_drop = ['Name', 'Ticket', 'Cabin']\n",
        "df = df.drop(cols_to_drop, axis=1)\n",
        "df.head(4)"
      ],
      "execution_count": 3,
      "outputs": [
        {
          "output_type": "execute_result",
          "data": {
            "text/html": [
              "<div>\n",
              "<style scoped>\n",
              "    .dataframe tbody tr th:only-of-type {\n",
              "        vertical-align: middle;\n",
              "    }\n",
              "\n",
              "    .dataframe tbody tr th {\n",
              "        vertical-align: top;\n",
              "    }\n",
              "\n",
              "    .dataframe thead th {\n",
              "        text-align: right;\n",
              "    }\n",
              "</style>\n",
              "<table border=\"1\" class=\"dataframe\">\n",
              "  <thead>\n",
              "    <tr style=\"text-align: right;\">\n",
              "      <th></th>\n",
              "      <th>PassengerId</th>\n",
              "      <th>Survived</th>\n",
              "      <th>Pclass</th>\n",
              "      <th>Sex</th>\n",
              "      <th>Age</th>\n",
              "      <th>SibSp</th>\n",
              "      <th>Parch</th>\n",
              "      <th>Fare</th>\n",
              "      <th>Embarked</th>\n",
              "    </tr>\n",
              "  </thead>\n",
              "  <tbody>\n",
              "    <tr>\n",
              "      <th>0</th>\n",
              "      <td>1</td>\n",
              "      <td>0</td>\n",
              "      <td>3</td>\n",
              "      <td>male</td>\n",
              "      <td>22.0</td>\n",
              "      <td>1</td>\n",
              "      <td>0</td>\n",
              "      <td>7.2500</td>\n",
              "      <td>S</td>\n",
              "    </tr>\n",
              "    <tr>\n",
              "      <th>1</th>\n",
              "      <td>2</td>\n",
              "      <td>1</td>\n",
              "      <td>1</td>\n",
              "      <td>female</td>\n",
              "      <td>38.0</td>\n",
              "      <td>1</td>\n",
              "      <td>0</td>\n",
              "      <td>71.2833</td>\n",
              "      <td>C</td>\n",
              "    </tr>\n",
              "    <tr>\n",
              "      <th>2</th>\n",
              "      <td>3</td>\n",
              "      <td>1</td>\n",
              "      <td>3</td>\n",
              "      <td>female</td>\n",
              "      <td>26.0</td>\n",
              "      <td>0</td>\n",
              "      <td>0</td>\n",
              "      <td>7.9250</td>\n",
              "      <td>S</td>\n",
              "    </tr>\n",
              "    <tr>\n",
              "      <th>3</th>\n",
              "      <td>4</td>\n",
              "      <td>1</td>\n",
              "      <td>1</td>\n",
              "      <td>female</td>\n",
              "      <td>35.0</td>\n",
              "      <td>1</td>\n",
              "      <td>0</td>\n",
              "      <td>53.1000</td>\n",
              "      <td>S</td>\n",
              "    </tr>\n",
              "  </tbody>\n",
              "</table>\n",
              "</div>"
            ],
            "text/plain": [
              "   PassengerId  Survived  Pclass     Sex   Age  SibSp  Parch     Fare Embarked\n",
              "0            1         0       3    male  22.0      1      0   7.2500        S\n",
              "1            2         1       1  female  38.0      1      0  71.2833        C\n",
              "2            3         1       3  female  26.0      0      0   7.9250        S\n",
              "3            4         1       1  female  35.0      1      0  53.1000        S"
            ]
          },
          "metadata": {
            "tags": []
          },
          "execution_count": 3
        }
      ]
    },
    {
      "cell_type": "markdown",
      "metadata": {
        "id": "TG2qqSXZsEWs"
      },
      "source": [
        "### checking for null values"
      ]
    },
    {
      "cell_type": "code",
      "metadata": {
        "colab": {
          "base_uri": "https://localhost:8080/",
          "height": 762
        },
        "id": "ooWtJzQCsCap",
        "outputId": "8120983f-21a0-4737-ce99-0c24b4b39827"
      },
      "source": [
        "df.info()\n",
        "sb.heatmap(df.isnull())\n",
        "df.isnull().sum()"
      ],
      "execution_count": 4,
      "outputs": [
        {
          "output_type": "stream",
          "text": [
            "<class 'pandas.core.frame.DataFrame'>\n",
            "RangeIndex: 156 entries, 0 to 155\n",
            "Data columns (total 9 columns):\n",
            " #   Column       Non-Null Count  Dtype  \n",
            "---  ------       --------------  -----  \n",
            " 0   PassengerId  156 non-null    int64  \n",
            " 1   Survived     156 non-null    int64  \n",
            " 2   Pclass       156 non-null    int64  \n",
            " 3   Sex          156 non-null    object \n",
            " 4   Age          126 non-null    float64\n",
            " 5   SibSp        156 non-null    int64  \n",
            " 6   Parch        156 non-null    int64  \n",
            " 7   Fare         156 non-null    float64\n",
            " 8   Embarked     155 non-null    object \n",
            "dtypes: float64(2), int64(5), object(2)\n",
            "memory usage: 11.1+ KB\n"
          ],
          "name": "stdout"
        },
        {
          "output_type": "execute_result",
          "data": {
            "text/plain": [
              "PassengerId     0\n",
              "Survived        0\n",
              "Pclass          0\n",
              "Sex             0\n",
              "Age            30\n",
              "SibSp           0\n",
              "Parch           0\n",
              "Fare            0\n",
              "Embarked        1\n",
              "dtype: int64"
            ]
          },
          "metadata": {
            "tags": []
          },
          "execution_count": 4
        },
        {
          "output_type": "display_data",
          "data": {
            "image/png": "[encoded data removed]",
            "text/plain": [
              "<Figure size 432x288 with 2 Axes>"
            ]
          },
          "metadata": {
            "tags": [],
            "needs_background": "light"
          }
        }
      ]
    },
    {
      "cell_type": "markdown",
      "metadata": {
        "id": "oR5pnGPesSO4"
      },
      "source": [
        "### Replace age value with interpolated on (ie)4,?6= 4+6/2 =5"
      ]
    },
    {
      "cell_type": "code",
      "metadata": {
        "id": "xt9ue7vosdnm"
      },
      "source": [
        "# To replace missing values with interpolated values, for example Age\n",
        "df['Age'] = df['Age'].interpolate()"
      ],
      "execution_count": 5,
      "outputs": []
    },
    {
      "cell_type": "markdown",
      "metadata": {
        "id": "ZQoJHt5Jsj8F"
      },
      "source": [
        "### drop empty columns"
      ]
    },
    {
      "cell_type": "code",
      "metadata": {
        "id": "F2ZLyb8hsisG"
      },
      "source": [
        "# Drop all rows with missin data\n",
        "df = df.dropna()"
      ],
      "execution_count": null,
      "outputs": []
    },
    {
      "cell_type": "markdown",
      "metadata": {
        "id": "Ob_U0DK5spp_"
      },
      "source": [
        "### Replace columns that are not int to int "
      ]
    },
    {
      "cell_type": "code",
      "metadata": {
        "id": "8VluqYKEsn4Q"
      },
      "source": [
        "#create dummy column\n",
        "EmbarkedColumnDummy = pd.get_dummies(df['Embarked'])\n",
        "SexColumnDummy = pd.get_dummies(df['Sex'])\n",
        "\n",
        "#add the columns to the dataframe\n",
        "df = pd.concat((df, EmbarkedColumnDummy, SexColumnDummy), axis=1)\n",
        "\n",
        "# Drop the redundant columns thus converted\n",
        "\n",
        "df = df.drop(['Sex','Embarked'],axis=1)"
      ],
      "execution_count": 7,
      "outputs": []
    },
    {
      "cell_type": "markdown",
      "metadata": {
        "id": "8CmM8I9AtM_J"
      },
      "source": [
        "### Mapping the data to X and Y"
      ]
    },
    {
      "cell_type": "code",
      "metadata": {
        "id": "2zUsX-1ltRlE"
      },
      "source": [
        "X = df.values\n",
        "y = df['Survived'].values"
      ],
      "execution_count": 8,
      "outputs": []
    },
    {
      "cell_type": "markdown",
      "metadata": {
        "id": "UpXMKKLwtg3o"
      },
      "source": [
        "### Delete survived columns from the x value"
      ]
    },
    {
      "cell_type": "code",
      "metadata": {
        "id": "BAWFVDGythdz"
      },
      "source": [
        "# Delete the Survived column from X\n",
        "X = np.delete(X,1,axis=1)"
      ],
      "execution_count": 9,
      "outputs": []
    },
    {
      "cell_type": "markdown",
      "metadata": {
        "id": "RRvRRubDt4vc"
      },
      "source": [
        "### Split the data to training and testing"
      ]
    },
    {
      "cell_type": "code",
      "metadata": {
        "id": "THAxnZ7lt84K"
      },
      "source": [
        "# Split the dataset into 70% Training and 30% Test\n",
        "from sklearn.model_selection import train_test_split\n",
        "X_train, X_test, y_train, y_test = train_test_split(X,y,test_size=0.3,random_state=0)"
      ],
      "execution_count": 10,
      "outputs": []
    },
    {
      "cell_type": "markdown",
      "metadata": {
        "id": "6dijt8kauBCT"
      },
      "source": [
        "### Decision Tree Classifier"
      ]
    },
    {
      "cell_type": "code",
      "metadata": {
        "colab": {
          "base_uri": "https://localhost:8080/"
        },
        "id": "mwpqwwLnuFf-",
        "outputId": "6ed6d3a1-7e24-44d7-b215-0e8c94699135"
      },
      "source": [
        "# Using simple Decision Tree classifier\n",
        "from sklearn import tree\n",
        "dt_clf = tree.DecisionTreeClassifier(max_depth=5)\n",
        "dt_clf.fit(X_train, y_train)\n",
        "dt_clf.score(X_test, y_test)"
      ],
      "execution_count": 11,
      "outputs": [
        {
          "output_type": "execute_result",
          "data": {
            "text/plain": [
              "0.8085106382978723"
            ]
          },
          "metadata": {
            "tags": []
          },
          "execution_count": 11
        }
      ]
    },
    {
      "cell_type": "code",
      "metadata": {
        "colab": {
          "base_uri": "https://localhost:8080/"
        },
        "id": "wEe2Gh9cuRGg",
        "outputId": "3884c96b-86f2-44e0-9d56-8a22561039e4"
      },
      "source": [
        "#Confusion matrix\n",
        "y_pred = dt_clf.predict(X_test)\n",
        "\n",
        "from sklearn.metrics import confusion_matrix\n",
        "confusion_matrix(y_test, y_pred)"
      ],
      "execution_count": 12,
      "outputs": [
        {
          "output_type": "execute_result",
          "data": {
            "text/plain": [
              "array([[29,  7],\n",
              "       [ 2,  9]])"
            ]
          },
          "metadata": {
            "tags": []
          },
          "execution_count": 12
        }
      ]
    },
    {
      "cell_type": "markdown",
      "metadata": {
        "id": "LPyHIlWguelv"
      },
      "source": [
        "### Random forest classifier"
      ]
    },
    {
      "cell_type": "code",
      "metadata": {
        "colab": {
          "base_uri": "https://localhost:8080/"
        },
        "id": "MQ5UerEEuhK-",
        "outputId": "83cca601-6a3a-45bb-f49d-0e3f0863e4e2"
      },
      "source": [
        "#Perform Classification Using Random Forest Classifier\n",
        "from sklearn import ensemble\n",
        "\n",
        "rf_clf = ensemble.RandomForestClassifier(n_estimators=100)\n",
        "rf_clf.fit(X_train, y_train)\n",
        "rf_clf.score(X_test, y_test)"
      ],
      "execution_count": 13,
      "outputs": [
        {
          "output_type": "execute_result",
          "data": {
            "text/plain": [
              "0.7659574468085106"
            ]
          },
          "metadata": {
            "tags": []
          },
          "execution_count": 13
        }
      ]
    },
    {
      "cell_type": "markdown",
      "metadata": {
        "id": "Lpw3c_gtunwH"
      },
      "source": [
        "### Gradient boosting classification"
      ]
    },
    {
      "cell_type": "code",
      "metadata": {
        "colab": {
          "base_uri": "https://localhost:8080/"
        },
        "id": "e2bKJBUluk2B",
        "outputId": "6851298e-d1da-4b31-fec7-2ec134f847b9"
      },
      "source": [
        "#Perform Classification Using Gradient Boosting Classifier\n",
        "gb_clf = ensemble.GradientBoostingClassifier()\n",
        "gb_clf.fit(X_train, y_train)\n",
        "gb_clf.score(X_test, y_test)"
      ],
      "execution_count": 14,
      "outputs": [
        {
          "output_type": "execute_result",
          "data": {
            "text/plain": [
              "0.723404255319149"
            ]
          },
          "metadata": {
            "tags": []
          },
          "execution_count": 14
        }
      ]
    },
    {
      "cell_type": "code",
      "metadata": {
        "colab": {
          "base_uri": "https://localhost:8080/"
        },
        "id": "R8J0w6p6uxG6",
        "outputId": "00e4e042-d2b8-4ccb-8839-e143a4afe818"
      },
      "source": [
        "# Let's  tune this Gradient booster.\n",
        "gb_clf = ensemble.GradientBoostingClassifier(n_estimators=50)\n",
        "gb_clf.fit(X_train,y_train)\n",
        "gb_clf.score(X_test, y_test)"
      ],
      "execution_count": 15,
      "outputs": [
        {
          "output_type": "execute_result",
          "data": {
            "text/plain": [
              "0.7446808510638298"
            ]
          },
          "metadata": {
            "tags": []
          },
          "execution_count": 15
        }
      ]
    }
  ]
}