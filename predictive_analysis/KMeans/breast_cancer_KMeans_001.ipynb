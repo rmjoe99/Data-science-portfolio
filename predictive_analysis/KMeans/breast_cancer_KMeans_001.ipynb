{
  "nbformat": 4,
  "nbformat_minor": 0,
  "metadata": {
    "colab": {
      "name": "breast_cancer_KMeans_001.ipynb",
      "provenance": [],
      "authorship_tag": "ABX9TyO9c057fy37tcrsIbTtoVPe",
      "include_colab_link": true
    },
    "kernelspec": {
      "name": "python3",
      "display_name": "Python 3"
    },
    "language_info": {
      "name": "python"
    }
  },
  "cells": [
    {
      "cell_type": "markdown",
      "metadata": {
        "id": "view-in-github",
        "colab_type": "text"
      },
      "source": [
        "<a href=\"https://colab.research.google.com/github/syno3/Data-science-portfolio/blob/main/breast_cancer_KMeans_001.ipynb\" target=\"_parent\"><img src=\"https://colab.research.google.com/assets/colab-badge.svg\" alt=\"Open In Colab\"/></a>"
      ]
    },
    {
      "cell_type": "code",
      "metadata": {
        "id": "XE6Cfz3gj8uq"
      },
      "source": [
        "#importing libraries\n",
        "\n",
        "from sklearn.datasets import load_breast_cancer\n",
        "from sklearn.cluster import KMeans\n",
        "from sklearn.model_selection import train_test_split\n",
        "from sklearn.metrics import accuracy_score\n",
        "from sklearn.preprocessing import scale\n",
        "\n",
        "import pandas as pd"
      ],
      "execution_count": 1,
      "outputs": []
    },
    {
      "cell_type": "code",
      "metadata": {
        "id": "mYrE3TgkkV5K"
      },
      "source": [
        "#load dataset\n",
        "bc = load_breast_cancer()"
      ],
      "execution_count": 2,
      "outputs": []
    },
    {
      "cell_type": "code",
      "metadata": {
        "id": "dEQ7IoE0kaCC"
      },
      "source": [
        "#split the data and scale x\n",
        "x = scale(bc.data)\n",
        "y = bc.target"
      ],
      "execution_count": 3,
      "outputs": []
    },
    {
      "cell_type": "code",
      "metadata": {
        "id": "L-dpQxP5kiKA"
      },
      "source": [
        "#define train and test\n",
        "x_train, x_test, y_train, y_test = train_test_split(x,y, test_size = 0.2)"
      ],
      "execution_count": 4,
      "outputs": []
    },
    {
      "cell_type": "code",
      "metadata": {
        "id": "RoxT4sH4krsx"
      },
      "source": [
        "#define model\n",
        "model = KMeans(n_clusters=2, random_state=0)"
      ],
      "execution_count": 5,
      "outputs": []
    },
    {
      "cell_type": "code",
      "metadata": {
        "colab": {
          "base_uri": "https://localhost:8080/"
        },
        "id": "g870sg16kvod",
        "outputId": "0204b37e-60df-4769-a639-bfe7de5983db"
      },
      "source": [
        "#train the model\n",
        "model.fit(x_train)"
      ],
      "execution_count": 6,
      "outputs": [
        {
          "output_type": "execute_result",
          "data": {
            "text/plain": [
              "KMeans(algorithm='auto', copy_x=True, init='k-means++', max_iter=300,\n",
              "       n_clusters=2, n_init=10, n_jobs=None, precompute_distances='auto',\n",
              "       random_state=0, tol=0.0001, verbose=0)"
            ]
          },
          "metadata": {
            "tags": []
          },
          "execution_count": 6
        }
      ]
    },
    {
      "cell_type": "code",
      "metadata": {
        "id": "8zwO4I7Fk0Ux"
      },
      "source": [
        "#get the prediction\n",
        "predictions = model.predict(x_test)"
      ],
      "execution_count": 7,
      "outputs": []
    },
    {
      "cell_type": "code",
      "metadata": {
        "id": "7J2XgDAIk-lG"
      },
      "source": [
        "#get the labels\n",
        "labels = model.labels_"
      ],
      "execution_count": 9,
      "outputs": []
    },
    {
      "cell_type": "code",
      "metadata": {
        "colab": {
          "base_uri": "https://localhost:8080/"
        },
        "id": "aKuzVRGElDSk",
        "outputId": "3285dd38-8789-4bf0-96bb-a95662569b50"
      },
      "source": [
        "#printing put some relevant info\n",
        "print('labels', labels)\n",
        "print('prediction', predictions)\n",
        "print('accuracy', accuracy_score(y_test, predictions))\n",
        "print('actual values', y_test)"
      ],
      "execution_count": 10,
      "outputs": [
        {
          "output_type": "stream",
          "text": [
            "labels [1 1 0 1 1 1 1 0 1 0 1 1 1 1 0 1 0 0 1 1 0 1 1 1 1 0 1 1 1 0 1 0 1 1 1 1 0\n",
            " 1 0 0 0 1 1 0 0 1 0 1 0 0 1 1 0 1 0 1 0 1 0 1 1 1 0 1 1 1 0 1 0 1 0 0 0 0\n",
            " 1 1 1 1 0 1 0 1 1 1 1 0 1 1 1 0 1 0 0 1 1 1 0 0 1 1 0 0 1 1 1 1 1 1 1 0 0\n",
            " 1 1 1 0 0 1 1 0 1 1 0 0 1 1 1 1 1 1 1 0 1 1 1 1 1 1 0 1 1 1 0 1 1 1 1 0 0\n",
            " 1 1 1 1 1 1 0 1 1 1 1 1 1 1 0 0 1 0 1 1 1 1 1 1 1 1 0 1 1 1 1 1 0 1 1 0 1\n",
            " 1 1 1 0 1 1 1 0 1 1 1 1 1 0 1 1 0 0 1 1 0 0 0 1 1 0 1 1 0 1 0 1 1 1 1 1 1\n",
            " 1 0 1 1 0 1 0 0 1 0 1 1 0 1 0 0 1 1 0 0 1 1 1 1 1 1 1 1 1 1 0 1 1 1 1 1 1\n",
            " 0 1 1 1 0 1 1 0 0 1 1 1 1 1 1 1 1 1 1 1 0 1 1 0 1 1 0 1 1 1 0 0 1 0 0 1 1\n",
            " 0 0 1 0 1 0 0 0 1 1 1 1 1 1 1 1 1 1 1 1 1 1 0 1 1 0 1 1 1 1 1 1 1 1 1 0 1\n",
            " 1 1 1 1 1 0 1 0 0 0 1 1 1 1 0 0 1 1 1 0 1 1 1 0 1 1 0 0 1 1 1 1 1 0 1 1 0\n",
            " 1 0 1 0 1 1 0 0 1 1 1 1 0 0 1 1 0 1 1 1 1 0 1 1 0 1 0 0 1 1 1 1 1 0 1 0 0\n",
            " 1 1 1 1 1 1 1 1 1 0 1 1 1 1 1 1 0 1 0 1 1 0 0 1 0 1 1 1 0 0 1 1 0 1 1 1 0\n",
            " 1 1 0 1 0 1 1 1 1 1 1]\n",
            "prediction [1 1 1 1 1 1 0 1 0 0 1 1 1 1 0 0 1 1 1 1 1 0 0 1 1 0 1 0 1 1 1 1 1 1 0 1 1\n",
            " 0 1 1 1 0 1 1 1 1 1 1 1 0 1 1 1 1 0 1 0 1 1 0 1 0 0 1 1 1 1 1 0 1 0 0 0 1\n",
            " 1 0 1 1 0 1 1 0 1 1 1 1 1 1 1 1 0 0 0 0 1 0 1 1 1 1 1 0 0 1 0 0 0 0 1 1 1\n",
            " 1 1 1]\n",
            "accuracy 0.9122807017543859\n",
            "actual values [1 1 1 1 1 0 0 1 0 0 1 1 1 1 0 0 1 0 1 1 1 0 0 1 1 0 1 0 1 1 1 1 1 0 0 1 1\n",
            " 0 1 1 1 0 1 0 1 1 1 1 1 0 1 1 1 1 1 1 0 1 1 0 1 0 0 1 1 1 1 1 0 1 0 0 1 1\n",
            " 1 0 1 1 0 1 1 0 1 0 1 1 1 1 1 1 0 0 0 0 1 0 1 1 1 0 1 1 0 0 0 0 0 0 1 1 1\n",
            " 1 1 1]\n"
          ],
          "name": "stdout"
        }
      ]
    }
  ]
}
