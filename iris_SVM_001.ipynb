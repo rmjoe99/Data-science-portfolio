{
  "nbformat": 4,
  "nbformat_minor": 0,
  "metadata": {
    "colab": {
      "name": "iris_SVM_001.ipynb",
      "provenance": [],
      "authorship_tag": "ABX9TyMMbbRFmR5DMQFana6FFnvu",
      "include_colab_link": true
    },
    "kernelspec": {
      "name": "python3",
      "display_name": "Python 3"
    },
    "language_info": {
      "name": "python"
    }
  },
  "cells": [
    {
      "cell_type": "markdown",
      "metadata": {
        "id": "view-in-github",
        "colab_type": "text"
      },
      "source": [
        "<a href=\"https://colab.research.google.com/github/syno3/Data-science-portfolio/blob/main/iris_SVM_001.ipynb\" target=\"_parent\"><img src=\"https://colab.research.google.com/assets/colab-badge.svg\" alt=\"Open In Colab\"/></a>"
      ]
    },
    {
      "cell_type": "code",
      "metadata": {
        "id": "LHcUwk_bDbPy"
      },
      "source": [
        "#importing libraries\n",
        "from sklearn import datasets\n",
        "import numpy as np\n",
        "from sklearn.model_selection import train_test_split\n",
        "from sklearn import svm\n",
        "from sklearn.metrics import accuracy_score"
      ],
      "execution_count": 1,
      "outputs": []
    },
    {
      "cell_type": "code",
      "metadata": {
        "id": "n1_nwAqzDkpM"
      },
      "source": [
        "#load datasets\n",
        "iris = datasets.load_iris()"
      ],
      "execution_count": 2,
      "outputs": []
    },
    {
      "cell_type": "code",
      "metadata": {
        "id": "9TE4iSlNDoGj"
      },
      "source": [
        "#mapping data into x and y\n",
        "x = iris.data\n",
        "y = iris.target"
      ],
      "execution_count": 4,
      "outputs": []
    },
    {
      "cell_type": "code",
      "metadata": {
        "id": "GumAz641DvSc"
      },
      "source": [
        "classes = ['Iris Setosa', 'Iris Versicolor', 'Iris Virginica']"
      ],
      "execution_count": 5,
      "outputs": []
    },
    {
      "cell_type": "code",
      "metadata": {
        "id": "eTszPFVODxsg"
      },
      "source": [
        "#splitting data into training and testing\n",
        "x_train, x_test, y_train, y_test = train_test_split(x,y, test_size=0.2)"
      ],
      "execution_count": 7,
      "outputs": []
    },
    {
      "cell_type": "code",
      "metadata": {
        "colab": {
          "base_uri": "https://localhost:8080/"
        },
        "id": "zQV94FdbD4-J",
        "outputId": "406f62c8-a723-4710-dcc3-9bb46b15e81d"
      },
      "source": [
        "#creating model and training\n",
        "model = svm.SVC()\n",
        "model.fit(x_train, y_train)"
      ],
      "execution_count": 15,
      "outputs": [
        {
          "output_type": "execute_result",
          "data": {
            "text/plain": [
              "SVC(C=1.0, break_ties=False, cache_size=200, class_weight=None, coef0=0.0,\n",
              "    decision_function_shape='ovr', degree=3, gamma='scale', kernel='rbf',\n",
              "    max_iter=-1, probability=False, random_state=None, shrinking=True,\n",
              "    tol=0.001, verbose=False)"
            ]
          },
          "metadata": {
            "tags": []
          },
          "execution_count": 15
        }
      ]
    },
    {
      "cell_type": "code",
      "metadata": {
        "id": "JbByAznxD_ib"
      },
      "source": [
        "#create prediction and checking accuracy level\n",
        "predictions = model.predict(x_test)\n",
        "accuracy = accuracy_score(y_test, predictions)"
      ],
      "execution_count": 11,
      "outputs": []
    },
    {
      "cell_type": "code",
      "metadata": {
        "colab": {
          "base_uri": "https://localhost:8080/"
        },
        "id": "LPocOVA0EGil",
        "outputId": "302992bc-7074-4362-e6bd-760c9d3ad041"
      },
      "source": [
        "#printing out the data\n",
        "print('actual; ', y_test)\n",
        "print('predictions; ', predictions)\n",
        "print('accuracy ; ', accuracy)"
      ],
      "execution_count": 16,
      "outputs": [
        {
          "output_type": "stream",
          "text": [
            "actual;  [0 2 1 0 1 1 0 0 2 1 0 2 0 2 0 1 0 0 1 1 0 2 1 2 0 1 2 2 1 0]\n",
            "predictions;  [0 2 1 0 1 1 0 0 2 1 0 2 0 2 0 1 0 0 1 1 0 2 1 2 0 1 2 1 1 0]\n",
            "accuracy ;  0.9666666666666667\n"
          ],
          "name": "stdout"
        }
      ]
    }
  ]
}